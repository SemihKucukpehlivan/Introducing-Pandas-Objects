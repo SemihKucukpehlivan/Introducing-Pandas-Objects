{
 "cells": [
  {
   "cell_type": "markdown",
   "id": "53aa44d7",
   "metadata": {},
   "source": [
    "# Motivating query() and eval(): Compound Expressions"
   ]
  },
  {
   "cell_type": "code",
   "execution_count": 1,
   "id": "52fa5f3e",
   "metadata": {},
   "outputs": [
    {
     "name": "stdout",
     "output_type": "stream",
     "text": [
      "9.65 ms ± 542 µs per loop (mean ± std. dev. of 7 runs, 100 loops each)\n"
     ]
    }
   ],
   "source": [
    "import numpy as np\n",
    "\n",
    "rng = np.random.RandomState(42)\n",
    "x=rng.rand(1000000)\n",
    "y=rng.rand(1000000)\n",
    "\n",
    "%timeit x + y"
   ]
  },
  {
   "cell_type": "code",
   "execution_count": 2,
   "id": "99701602",
   "metadata": {},
   "outputs": [
    {
     "name": "stdout",
     "output_type": "stream",
     "text": [
      "486 ms ± 49.9 ms per loop (mean ± std. dev. of 7 runs, 1 loop each)\n"
     ]
    }
   ],
   "source": [
    "%timeit np.fromiter((xi+yi for xi, yi in zip(x,y)),dtype = x.dtype, count =len(x))"
   ]
  },
  {
   "cell_type": "code",
   "execution_count": 3,
   "id": "3e7623df",
   "metadata": {},
   "outputs": [],
   "source": [
    "mask = (x> 0.5) & (y<0.5)"
   ]
  },
  {
   "cell_type": "code",
   "execution_count": 4,
   "id": "e3e07527",
   "metadata": {},
   "outputs": [],
   "source": [
    "tmp1 = (x>0.5)\n",
    "tmp2 = (y<0.5)\n",
    "\n",
    "mask = tmp1 & tmp2"
   ]
  },
  {
   "cell_type": "code",
   "execution_count": 5,
   "id": "7676c9ca",
   "metadata": {},
   "outputs": [
    {
     "data": {
      "text/plain": [
       "True"
      ]
     },
     "execution_count": 5,
     "metadata": {},
     "output_type": "execute_result"
    }
   ],
   "source": [
    "import numexpr\n",
    "mask_numexpr = numexpr.evaluate(\"(x>0.5) & (y<0.5)\")\n",
    "np.allclose(mask,mask_numexpr)"
   ]
  },
  {
   "cell_type": "markdown",
   "id": "0eab0825",
   "metadata": {},
   "source": [
    "# pandas.eval() for Efficient Operations"
   ]
  },
  {
   "cell_type": "code",
   "execution_count": 6,
   "id": "4d5c9f16",
   "metadata": {},
   "outputs": [],
   "source": [
    "import pandas as pd\n",
    "nrows,ncols = 100000,100\n",
    "rng = np.random.RandomState(42)\n",
    "df1, df2, df3, df4 = (pd.DataFrame(rng.rand(nrows, ncols))\n",
    "                     for i in range(4))"
   ]
  },
  {
   "cell_type": "code",
   "execution_count": 7,
   "id": "6f63ac05",
   "metadata": {},
   "outputs": [
    {
     "name": "stdout",
     "output_type": "stream",
     "text": [
      "168 ms ± 24.7 ms per loop (mean ± std. dev. of 7 runs, 10 loops each)\n"
     ]
    }
   ],
   "source": [
    "%timeit df1 + df2+ df3 + df4"
   ]
  },
  {
   "cell_type": "code",
   "execution_count": 8,
   "id": "76c5c940",
   "metadata": {},
   "outputs": [
    {
     "name": "stdout",
     "output_type": "stream",
     "text": [
      "56.8 ms ± 1.29 ms per loop (mean ± std. dev. of 7 runs, 10 loops each)\n"
     ]
    }
   ],
   "source": [
    "%timeit pd.eval(\"df1 + df2 + df3 + df4\")"
   ]
  },
  {
   "cell_type": "code",
   "execution_count": 9,
   "id": "abd06369",
   "metadata": {},
   "outputs": [
    {
     "data": {
      "text/plain": [
       "True"
      ]
     },
     "execution_count": 9,
     "metadata": {},
     "output_type": "execute_result"
    }
   ],
   "source": [
    "np.allclose(df1 + df2 + df3 + df4 ,\n",
    "           pd.eval(\"df1+df2+df3+df4\"))"
   ]
  },
  {
   "cell_type": "markdown",
   "id": "fe326c58",
   "metadata": {},
   "source": [
    "## Operations Supported by"
   ]
  },
  {
   "cell_type": "code",
   "execution_count": 11,
   "id": "c1d39738",
   "metadata": {},
   "outputs": [],
   "source": [
    "df1, df2, df3, df4, df5 = (pd.DataFrame(rng.randint(0,1000,(100,3)))\n",
    "                          for i in range(5))"
   ]
  },
  {
   "cell_type": "markdown",
   "id": "acad8123",
   "metadata": {},
   "source": [
    "### Arithmetic Operators"
   ]
  },
  {
   "cell_type": "code",
   "execution_count": 13,
   "id": "41fcd11a",
   "metadata": {},
   "outputs": [
    {
     "data": {
      "text/plain": [
       "True"
      ]
     },
     "execution_count": 13,
     "metadata": {},
     "output_type": "execute_result"
    }
   ],
   "source": [
    "result1 = -df1 * df2 / (df3+df4) - df5\n",
    "result2 = pd.eval(\"-df1 * df2 / (df3 + df4) - df5\")\n",
    "np.allclose(result1,result2)"
   ]
  },
  {
   "cell_type": "markdown",
   "id": "4d9d4ea5",
   "metadata": {},
   "source": [
    "### Comparison operators"
   ]
  },
  {
   "cell_type": "code",
   "execution_count": 14,
   "id": "4100e4e4",
   "metadata": {},
   "outputs": [
    {
     "data": {
      "text/plain": [
       "True"
      ]
     },
     "execution_count": 14,
     "metadata": {},
     "output_type": "execute_result"
    }
   ],
   "source": [
    "result1 = (df1 < df2) & (df2 <= df3) & (df3 != df4)\n",
    "result2 = pd.eval('df1 < df2 <= df3 != df4')\n",
    "np.allclose(result1, result2)"
   ]
  },
  {
   "cell_type": "markdown",
   "id": "12f63b48",
   "metadata": {},
   "source": [
    "### Bitwise Operators"
   ]
  },
  {
   "cell_type": "code",
   "execution_count": 15,
   "id": "5e21f110",
   "metadata": {},
   "outputs": [
    {
     "data": {
      "text/plain": [
       "True"
      ]
     },
     "execution_count": 15,
     "metadata": {},
     "output_type": "execute_result"
    }
   ],
   "source": [
    "result1 = (df1 < 0.5) & (df2 < 0.5) | (df3 < df4)\n",
    "result2 = pd.eval('(df1 < 0.5) & (df2 < 0.5) | (df3 < df4)')\n",
    "np.allclose(result1, result2)"
   ]
  },
  {
   "cell_type": "markdown",
   "id": "83776261",
   "metadata": {},
   "source": [
    "# DataFrame for Column - Wise Operations"
   ]
  },
  {
   "cell_type": "code",
   "execution_count": 16,
   "id": "dcd56e51",
   "metadata": {},
   "outputs": [
    {
     "data": {
      "text/html": [
       "<div>\n",
       "<style scoped>\n",
       "    .dataframe tbody tr th:only-of-type {\n",
       "        vertical-align: middle;\n",
       "    }\n",
       "\n",
       "    .dataframe tbody tr th {\n",
       "        vertical-align: top;\n",
       "    }\n",
       "\n",
       "    .dataframe thead th {\n",
       "        text-align: right;\n",
       "    }\n",
       "</style>\n",
       "<table border=\"1\" class=\"dataframe\">\n",
       "  <thead>\n",
       "    <tr style=\"text-align: right;\">\n",
       "      <th></th>\n",
       "      <th>A</th>\n",
       "      <th>B</th>\n",
       "      <th>C</th>\n",
       "    </tr>\n",
       "  </thead>\n",
       "  <tbody>\n",
       "    <tr>\n",
       "      <th>0</th>\n",
       "      <td>0.061761</td>\n",
       "      <td>0.925463</td>\n",
       "      <td>0.997420</td>\n",
       "    </tr>\n",
       "    <tr>\n",
       "      <th>1</th>\n",
       "      <td>0.209863</td>\n",
       "      <td>0.280456</td>\n",
       "      <td>0.042148</td>\n",
       "    </tr>\n",
       "    <tr>\n",
       "      <th>2</th>\n",
       "      <td>0.738991</td>\n",
       "      <td>0.019046</td>\n",
       "      <td>0.715501</td>\n",
       "    </tr>\n",
       "    <tr>\n",
       "      <th>3</th>\n",
       "      <td>0.062857</td>\n",
       "      <td>0.516241</td>\n",
       "      <td>0.604588</td>\n",
       "    </tr>\n",
       "    <tr>\n",
       "      <th>4</th>\n",
       "      <td>0.204537</td>\n",
       "      <td>0.813392</td>\n",
       "      <td>0.244804</td>\n",
       "    </tr>\n",
       "  </tbody>\n",
       "</table>\n",
       "</div>"
      ],
      "text/plain": [
       "          A         B         C\n",
       "0  0.061761  0.925463  0.997420\n",
       "1  0.209863  0.280456  0.042148\n",
       "2  0.738991  0.019046  0.715501\n",
       "3  0.062857  0.516241  0.604588\n",
       "4  0.204537  0.813392  0.244804"
      ]
     },
     "execution_count": 16,
     "metadata": {},
     "output_type": "execute_result"
    }
   ],
   "source": [
    "df = pd.DataFrame(rng.rand(1000,3), columns=[\"A\",\"B\",\"C\"])\n",
    "df.head()"
   ]
  },
  {
   "cell_type": "code",
   "execution_count": 17,
   "id": "32fb94c6",
   "metadata": {},
   "outputs": [
    {
     "data": {
      "text/plain": [
       "True"
      ]
     },
     "execution_count": 17,
     "metadata": {},
     "output_type": "execute_result"
    }
   ],
   "source": [
    "result1 = (df['A'] + df['B']) / (df['C'] - 1)\n",
    "result2 = pd.eval(\"(df.A + df.B) / (df.C - 1)\")\n",
    "np.allclose(result1, result2)"
   ]
  },
  {
   "cell_type": "code",
   "execution_count": 18,
   "id": "7a8762cd",
   "metadata": {},
   "outputs": [
    {
     "data": {
      "text/plain": [
       "True"
      ]
     },
     "execution_count": 18,
     "metadata": {},
     "output_type": "execute_result"
    }
   ],
   "source": [
    "result3 = df.eval('(A + B) / (C - 1)')\n",
    "np.allclose(result1, result3)"
   ]
  },
  {
   "cell_type": "code",
   "execution_count": null,
   "id": "312e829a",
   "metadata": {},
   "outputs": [],
   "source": []
  }
 ],
 "metadata": {
  "kernelspec": {
   "display_name": "Python 3 (ipykernel)",
   "language": "python",
   "name": "python3"
  },
  "language_info": {
   "codemirror_mode": {
    "name": "ipython",
    "version": 3
   },
   "file_extension": ".py",
   "mimetype": "text/x-python",
   "name": "python",
   "nbconvert_exporter": "python",
   "pygments_lexer": "ipython3",
   "version": "3.11.3"
  }
 },
 "nbformat": 4,
 "nbformat_minor": 5
}
